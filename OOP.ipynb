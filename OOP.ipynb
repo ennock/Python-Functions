{
  "nbformat": 4,
  "nbformat_minor": 0,
  "metadata": {
    "colab": {
      "provenance": []
    },
    "kernelspec": {
      "name": "python3",
      "display_name": "Python 3"
    },
    "language_info": {
      "name": "python"
    }
  },
  "cells": [
    {
      "cell_type": "code",
      "execution_count": 1,
      "metadata": {
        "id": "JiqmStxIl4mp"
      },
      "outputs": [],
      "source": [
        "## Creating a class"
      ]
    },
    {
      "cell_type": "code",
      "source": [
        "class employee_details:\n",
        "  pass"
      ],
      "metadata": {
        "id": "rNO5BkCzCfSF"
      },
      "execution_count": 2,
      "outputs": []
    },
    {
      "cell_type": "code",
      "source": [
        "emp1 = employee_details()\n",
        "emp1.name = \"Mohamed Kumar\"\n",
        "emp1.experience = \"3.5 years\"\n",
        "print(emp1.name)\n",
        "print(emp1.experience)"
      ],
      "metadata": {
        "colab": {
          "base_uri": "https://localhost:8080/"
        },
        "id": "XKHRlfrzCuWv",
        "outputId": "1843d7d7-0341-4fb5-c165-bc257c8a74c5"
      },
      "execution_count": 3,
      "outputs": [
        {
          "output_type": "stream",
          "name": "stdout",
          "text": [
            "Mohamed Kumar\n",
            "3.5 years\n"
          ]
        }
      ]
    }
  ]
}