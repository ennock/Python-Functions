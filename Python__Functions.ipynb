{
  "nbformat": 4,
  "nbformat_minor": 0,
  "metadata": {
    "colab": {
      "provenance": []
    },
    "kernelspec": {
      "name": "python3",
      "display_name": "Python 3"
    },
    "language_info": {
      "name": "python"
    }
  },
  "cells": [
    {
      "cell_type": "code",
      "execution_count": 1,
      "metadata": {
        "id": "JiqmStxIl4mp"
      },
      "outputs": [],
      "source": [
        "## Create a function that prints the square of a given number"
      ]
    },
    {
      "cell_type": "code",
      "source": [
        "def calc_square (num):\n",
        "  square = num*num\n",
        "  print(\"The square of %d is :\"%num, square)\n",
        "  return"
      ],
      "metadata": {
        "id": "T8ItoWuAmyZj"
      },
      "execution_count": 5,
      "outputs": []
    },
    {
      "cell_type": "code",
      "source": [
        "calc_square(8)"
      ],
      "metadata": {
        "colab": {
          "base_uri": "https://localhost:8080/"
        },
        "id": "TyHbl3pKnbdz",
        "outputId": "cb8ded07-a4b1-4c7c-f809-0d9c7e20a77a"
      },
      "execution_count": 7,
      "outputs": [
        {
          "output_type": "stream",
          "name": "stdout",
          "text": [
            "The square of 8 is : 64\n"
          ]
        }
      ]
    },
    {
      "cell_type": "code",
      "source": [
        "def calc_multiply(var1,var2 = 7):\n",
        "  multi = var1*var2\n",
        "  return multi\n"
      ],
      "metadata": {
        "id": "PmO35mLCrbiJ"
      },
      "execution_count": 9,
      "outputs": []
    },
    {
      "cell_type": "code",
      "source": [
        "multi = calc_multiply(12)\n",
        "print(multi)"
      ],
      "metadata": {
        "colab": {
          "base_uri": "https://localhost:8080/"
        },
        "id": "nJtgxSmsr8NK",
        "outputId": "7ecd9768-8cf0-452e-8ce4-67c1e2c67ad7"
      },
      "execution_count": 10,
      "outputs": [
        {
          "output_type": "stream",
          "name": "stdout",
          "text": [
            "84\n"
          ]
        }
      ]
    }
  ]
}